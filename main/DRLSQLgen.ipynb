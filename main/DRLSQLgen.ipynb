{
 "cells": [
  {
   "cell_type": "code",
   "execution_count": null,
   "metadata": {},
   "outputs": [],
   "source": [
    "#SQL Query generation sub-grammar\n",
    "'''\n",
    "Query ->\n",
    "SELECT (Attr_List|*)\n",
    "FROM Rltn_List\n",
    "((WHERE Cond_List)|?)\n",
    "(Group_List|?)\n",
    "(Order_List|?)\n",
    "\n",
    "Note 1:\n",
    "| means choice, ? as epsilon or nothing\n",
    "ARLTN as actual  relation\n",
    "VRLTN as virtual relation(sub-query)\n",
    "\n",
    "Attr_List: attribute list as output (ARLTN_NAME|VRLTN_NAME).ATTR_NAME\n",
    "Rltn_List: list of used instance relations or sub-queries, each with a name alias\n",
    "Note 2: each sub-query can access attrbites declared above it allowing co-related subqueries\n",
    "\n",
    "Cond_List: condition list as clauses in conjuction (^); not yet thought about disjunction\n",
    "Note 3: Cond_List allows for selection & join conditions\n",
    "Equality, Closed Range & Membership operators depending upon semantics\n",
    "Inner joins allowed only, as Equi/Non-equi join, have to check any benchmark as non-inner joins\n",
    "\n",
    "Next problem, should be last:\n",
    "Modelling semantics of data to synthetic generate queries\n",
    "'''"
   ]
  }
 ],
 "metadata": {
  "kernelspec": {
   "display_name": "Python3(DSL)",
   "language": "python",
   "name": "dsl"
  },
  "language_info": {
   "codemirror_mode": {
    "name": "ipython",
    "version": 3
   },
   "file_extension": ".py",
   "mimetype": "text/x-python",
   "name": "python",
   "nbconvert_exporter": "python",
   "pygments_lexer": "ipython3",
   "version": "3.6.7"
  }
 },
 "nbformat": 4,
 "nbformat_minor": 2
}
